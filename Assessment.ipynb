{
  "nbformat": 4,
  "nbformat_minor": 0,
  "metadata": {
    "colab": {
      "provenance": [],
      "authorship_tag": "ABX9TyMx8GBH/tDGSS8qPr9MTXBW",
      "include_colab_link": true
    },
    "kernelspec": {
      "name": "python3",
      "display_name": "Python 3"
    },
    "language_info": {
      "name": "python"
    }
  },
  "cells": [
    {
      "cell_type": "markdown",
      "metadata": {
        "id": "view-in-github",
        "colab_type": "text"
      },
      "source": [
        "<a href=\"https://colab.research.google.com/github/Adithya759/Adithya/blob/main/Assessment.ipynb\" target=\"_parent\"><img src=\"https://colab.research.google.com/assets/colab-badge.svg\" alt=\"Open In Colab\"/></a>"
      ]
    },
    {
      "cell_type": "code",
      "source": [
        "#1\n",
        "def find_range(numbers):\n",
        "  return min(numbers), max(numbers)\n",
        "my_list = [5,2,9,-1,7]\n",
        "\n",
        "minimum, maximum = find_range(my_list)\n",
        "\n",
        "print(\"minimum:\", minimum)\n",
        "print(\"maximum:\", maximum)"
      ],
      "metadata": {
        "colab": {
          "base_uri": "https://localhost:8080/"
        },
        "id": "tq0u600OYpek",
        "outputId": "15a06022-e823-44f0-fcde-d5a6500b9511"
      },
      "execution_count": 13,
      "outputs": [
        {
          "output_type": "stream",
          "name": "stdout",
          "text": [
            "minimum: -1\n",
            "maximum: 9\n"
          ]
        }
      ]
    },
    {
      "cell_type": "code",
      "source": [
        "#2\n",
        "def find_mean(numbers):\n",
        "  return(sum(numbers)/ len(numbers))\n",
        "x=(20,40,60,80,100)\n",
        "mean=find_mean(x)\n",
        "print(\"Mean value:\",mean)"
      ],
      "metadata": {
        "colab": {
          "base_uri": "https://localhost:8080/"
        },
        "id": "Xu4g0thGanqs",
        "outputId": "b753afc8-b79f-4413-b847-77f7485d05c9"
      },
      "execution_count": 12,
      "outputs": [
        {
          "output_type": "stream",
          "name": "stdout",
          "text": [
            "Mean value: 60.0\n"
          ]
        }
      ]
    },
    {
      "cell_type": "code",
      "source": [
        "#3\n",
        "def find_median(numbers):\n",
        "  numbers=sorted(numbers)\n",
        "  n=len(numbers)\n",
        "  mid=n//2\n",
        "\n",
        "  if n% 2==0:\n",
        "    return(numbers[mid-1]+numbers[mid])/2\n",
        "  else:\n",
        "    return numbers[mid]\n",
        "y=[5,2,9,1,7]\n",
        "median= find_median(y)\n",
        "print(\"Median Value:\", median)"
      ],
      "metadata": {
        "colab": {
          "base_uri": "https://localhost:8080/"
        },
        "id": "KhWn_Rm9caT9",
        "outputId": "eeb8fb18-75f8-48e9-f3d1-70c3e8dde61c"
      },
      "execution_count": 15,
      "outputs": [
        {
          "output_type": "stream",
          "name": "stdout",
          "text": [
            "Median Value: 5\n"
          ]
        }
      ]
    },
    {
      "cell_type": "code",
      "source": [
        "#5\n",
        "def percentile_value(p):\n",
        "  x=sorted(p)\n",
        "  n=len(x)\n",
        "  perc=90/100 * (n-1)\n",
        "  y=int(perc)\n",
        "  fraction=perc-y\n",
        "\n",
        "  if y+1 < n:\n",
        "    m=x[y]+fraction*(x[y+1]- x[y])\n",
        "  #else:\n",
        "  #    m=x[y] # if index out of bounds, return last element\n",
        "\n",
        "\n",
        "  return perc,y,m\n",
        "\n",
        "x=[10,20,30,40,50]\n",
        "perc,y,m=percentile_value(x)\n",
        "print(\"Percentile position(float):\", perc)\n",
        "print(\"Lower index used:\",y)\n",
        "print(\"interpolated 90th percentile value:\",m)"
      ],
      "metadata": {
        "colab": {
          "base_uri": "https://localhost:8080/"
        },
        "id": "jJlEioN3znlt",
        "outputId": "86140c5c-db5e-45df-c240-b0898175ffac"
      },
      "execution_count": 30,
      "outputs": [
        {
          "output_type": "stream",
          "name": "stdout",
          "text": [
            "Percentile position(float): 3.6\n",
            "Lower index used: 3\n",
            "interpolated 90th percentile value: 46.0\n"
          ]
        }
      ]
    },
    {
      "cell_type": "code",
      "source": [
        "#6\n",
        "def find_lower_bound(numbers):\n",
        "  return min(numbers)\n",
        "a=[2,4,6,7,4,5]\n",
        "lower_bound= find_lower_bound(a)\n",
        "print(\"Lower Bound :\", lower_bound)"
      ],
      "metadata": {
        "colab": {
          "base_uri": "https://localhost:8080/"
        },
        "id": "L1Riuqj2uea5",
        "outputId": "8003c3a3-14bc-4f75-e67c-d719ede1f9e3"
      },
      "execution_count": 18,
      "outputs": [
        {
          "output_type": "stream",
          "name": "stdout",
          "text": [
            "Lower Bound : 2\n"
          ]
        }
      ]
    },
    {
      "cell_type": "code",
      "source": [
        "#8\n",
        "def find_standard_deviation(numbers):\n",
        "  return None\n",
        "  mean= sum(numbers)/len(numbers)\n",
        "  varience=sum((x-mean)**2 for x in numbers)/ len(numbers)\n",
        "  standard_deviation= varience**0.5\n",
        "  return standard_deviation\n",
        "my_list=[10,12,23,23,16,23,21,16]\n",
        "sd= find_standard_deviation(my_list)\n",
        "print(\"Standard Deviation:\",sd)"
      ],
      "metadata": {
        "colab": {
          "base_uri": "https://localhost:8080/"
        },
        "id": "aQ3sQ2dmx0Zy",
        "outputId": "8ad4954d-66fd-4c04-a9f8-e8d8888f861a"
      },
      "execution_count": 29,
      "outputs": [
        {
          "output_type": "stream",
          "name": "stdout",
          "text": [
            "Standard Deviation: None\n"
          ]
        }
      ]
    },
    {
      "cell_type": "code",
      "source": [
        "#7\n",
        "import numpy as np\n",
        "\n",
        "def find_outliers(numbers):\n",
        "  Q1=np.percentile(numbers,25)\n",
        "  Q3=np.percentile(numbers,75)\n",
        "  iqr=Q3-Q1\n",
        "  lower_bound= Q1- 1.5 * iqr\n",
        "  upper_bound= Q3+ 1.5 * iqr\n",
        "  outliers= [x for x in numbers if x < lower_bound > upper_bound]\n",
        "\n",
        "  if outliers:\n",
        "    return outliers\n",
        "  else:\n",
        "    return None\n",
        "\n",
        "numbers=[10,12,14,15,16,18,100]\n",
        "result= find_outliers(numbers)\n",
        "print(\"Outliers :\", result)"
      ],
      "metadata": {
        "colab": {
          "base_uri": "https://localhost:8080/"
        },
        "id": "jIjYkl4V4O6T",
        "outputId": "9bc2a02d-a375-41f2-9e59-e9f03aac51ec"
      },
      "execution_count": 35,
      "outputs": [
        {
          "output_type": "stream",
          "name": "stdout",
          "text": [
            "Outliers : None\n"
          ]
        }
      ]
    },
    {
      "cell_type": "code",
      "source": [
        "#9\n",
        "def calculate_z_score(numbers):\n",
        "  mean= np.mean(numbers)\n",
        "  std_dev= np.std(numbers)\n",
        "  z_scores = [(x-mean)/ std_dev for x in numbers]\n",
        "  return z_scores\n",
        "\n",
        "numbers= [2,4,6,8,9,10]\n",
        "z_scores= calculate_z_score(numbers)\n",
        "print(\"Z_scores:\", z_scores)"
      ],
      "metadata": {
        "colab": {
          "base_uri": "https://localhost:8080/"
        },
        "id": "2eIISRyc7GUB",
        "outputId": "60e1f8cd-8234-4efc-f596-11ba191ae532"
      },
      "execution_count": 40,
      "outputs": [
        {
          "output_type": "stream",
          "name": "stdout",
          "text": [
            "Z_scores: [np.float64(-1.5993419699495495), np.float64(-0.8885233166386386), np.float64(-0.17770466332772772), np.float64(0.5331139899831832), np.float64(0.8885233166386386), np.float64(1.243932643294094)]\n"
          ]
        }
      ]
    }
  ]
}