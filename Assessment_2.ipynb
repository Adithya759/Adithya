{
  "nbformat": 4,
  "nbformat_minor": 0,
  "metadata": {
    "colab": {
      "provenance": [],
      "authorship_tag": "ABX9TyMU8rgTtAlSbUH5W+43iFff",
      "include_colab_link": true
    },
    "kernelspec": {
      "name": "python3",
      "display_name": "Python 3"
    },
    "language_info": {
      "name": "python"
    }
  },
  "cells": [
    {
      "cell_type": "markdown",
      "metadata": {
        "id": "view-in-github",
        "colab_type": "text"
      },
      "source": [
        "<a href=\"https://colab.research.google.com/github/Adithya759/Adithya/blob/main/Assessment_2.ipynb\" target=\"_parent\"><img src=\"https://colab.research.google.com/assets/colab-badge.svg\" alt=\"Open In Colab\"/></a>"
      ]
    },
    {
      "cell_type": "markdown",
      "source": [
        "## **#Numpy Assessment**"
      ],
      "metadata": {
        "id": "yIygfARCGXqy"
      }
    },
    {
      "cell_type": "code",
      "execution_count": null,
      "metadata": {
        "colab": {
          "base_uri": "https://localhost:8080/"
        },
        "id": "jOQ5w9cLCY7h",
        "outputId": "2f64b4a5-336e-4809-ab41-5dcc78cea964"
      },
      "outputs": [
        {
          "output_type": "stream",
          "name": "stdout",
          "text": [
            "Original array:\n",
            " [10 11 12 13 14 15 16 17 18 19 20 21 22 23 24 25 26 27 28 29 30 31 32 33\n",
            " 34 35 36 37 38 39 40 41 42 43 44 45 46 47 48 49]\n",
            "\n",
            "Reshaped 4x10 matrix:\n",
            " [[10 11 12 13 14 15 16 17 18 19]\n",
            " [20 21 22 23 24 25 26 27 28 29]\n",
            " [30 31 32 33 34 35 36 37 38 39]\n",
            " [40 41 42 43 44 45 46 47 48 49]]\n",
            "\n",
            "Last column:\n",
            " [19 29 39 49]\n"
          ]
        }
      ],
      "source": [
        "#1\n",
        "import numpy as np\n",
        "arr = np.arange(10, 50)\n",
        "print(\"Original array:\\n\", arr)\n",
        "\n",
        "\n",
        "reshaped = arr.reshape(4, 10)\n",
        "print(\"\\nReshaped 4x10 matrix:\\n\", reshaped)\n",
        "\n",
        "\n",
        "last_col = reshaped[:, -1]\n",
        "print(\"\\nLast column:\\n\", last_col)"
      ]
    },
    {
      "cell_type": "code",
      "source": [
        "#2\n",
        "import numpy as np\n",
        "\n",
        "matrix_5s = np.full((3, 3), 5)\n",
        "\n",
        "matrix_1_to_9 = np.arange(1, 10).reshape(3, 3)\n",
        "\n",
        "print(\"Matrix of 5s:\\n\", matrix_5s)\n",
        "print(\"\\nMatrix with values from 1 to 9:\\n\", matrix_1_to_9)\n",
        "\n",
        "\n",
        "added = matrix_5s + matrix_1_to_9\n",
        "print(\"\\nAdded Matrix:\\n\", added)\n",
        "\n",
        "\n",
        "multiplied = matrix_5s * matrix_1_to_9\n",
        "print(\"\\nElement-wise Multiplied Matrix:\\n\", multiplied)\n",
        "\n",
        "\n",
        "transpose_result = multiplied.T\n",
        "print(\"\\nTranspose of the Multiplied Matrix:\\n\", transpose_result)"
      ],
      "metadata": {
        "colab": {
          "base_uri": "https://localhost:8080/"
        },
        "id": "GEMfovdQDFHv",
        "outputId": "5eeaee40-4961-48cc-b3ba-4a835ca6b696"
      },
      "execution_count": null,
      "outputs": [
        {
          "output_type": "stream",
          "name": "stdout",
          "text": [
            "Matrix of 5s:\n",
            " [[5 5 5]\n",
            " [5 5 5]\n",
            " [5 5 5]]\n",
            "\n",
            "Matrix with values from 1 to 9:\n",
            " [[1 2 3]\n",
            " [4 5 6]\n",
            " [7 8 9]]\n",
            "\n",
            "Added Matrix:\n",
            " [[ 6  7  8]\n",
            " [ 9 10 11]\n",
            " [12 13 14]]\n",
            "\n",
            "Element-wise Multiplied Matrix:\n",
            " [[ 5 10 15]\n",
            " [20 25 30]\n",
            " [35 40 45]]\n",
            "\n",
            "Transpose of the Multiplied Matrix:\n",
            " [[ 5 20 35]\n",
            " [10 25 40]\n",
            " [15 30 45]]\n"
          ]
        }
      ]
    },
    {
      "cell_type": "code",
      "source": [
        "#3\n",
        "import numpy as np\n",
        "\n",
        "arr = np.random.randint(10, 101, size=15)\n",
        "print(\"Original array:\\n\", arr)\n",
        "\n",
        "replaced = arr > 50\n",
        "arr[replaced] = -1\n",
        "print(\"\\nModified array (values > 50 replaced with -1):\\n\", arr)\n",
        "\n",
        "count_replaced = np.sum(replaced)\n",
        "print(\"\\nNumber of values replaced:\", count_replaced)"
      ],
      "metadata": {
        "colab": {
          "base_uri": "https://localhost:8080/"
        },
        "id": "3qp56rOlDFAI",
        "outputId": "85529694-866e-4309-9e89-75b5b0640531"
      },
      "execution_count": null,
      "outputs": [
        {
          "output_type": "stream",
          "name": "stdout",
          "text": [
            "Original array:\n",
            " [92 17 79 80 75 30 77 81 87 10 79 50 77 59 10]\n",
            "\n",
            "Modified array (values > 50 replaced with -1):\n",
            " [-1 17 -1 -1 -1 30 -1 -1 -1 10 -1 50 -1 -1 10]\n",
            "\n",
            "Number of values replaced: 10\n"
          ]
        }
      ]
    },
    {
      "cell_type": "code",
      "source": [
        "#4\n",
        "import numpy as np\n",
        "\n",
        "arr = np.random.rand(5, 4)\n",
        "print(\"Original 5x4 array:\\n\", arr)\n",
        "\n",
        "row_sums = arr.sum(axis=1)\n",
        "max_row_index = np.argmax(row_sums)\n",
        "print(\"\\nRow with maximum sum (index {}):\\n\".format(max_row_index), arr[max_row_index])\n",
        "\n",
        "\n",
        "normalized_arr = np.zeros_like(arr)\n",
        "for i in range(arr.shape[0]):\n",
        "    row_min = arr[i].min()\n",
        "    row_max = arr[i].max()\n",
        "    if row_max != row_min:\n",
        "        normalized_arr[i] = (arr[i] - row_min) / (row_max - row_min)\n",
        "    else:\n",
        "        normalized_arr[i] = 0\n",
        "print(\"\\nNormalized array (row-wise min-max):\\n\", normalized_arr)\n"
      ],
      "metadata": {
        "colab": {
          "base_uri": "https://localhost:8080/"
        },
        "id": "r5CmJG0ODE3R",
        "outputId": "7429754a-3391-496b-c456-8f530554a2f8"
      },
      "execution_count": null,
      "outputs": [
        {
          "output_type": "stream",
          "name": "stdout",
          "text": [
            "Original 5x4 array:\n",
            " [[7.52207710e-01 1.18991051e-01 8.17271797e-01 7.62800209e-01]\n",
            " [7.51525758e-01 1.56755164e-01 5.39593694e-02 5.54161674e-02]\n",
            " [5.27606185e-04 8.69002490e-02 6.58420660e-01 1.70678280e-01]\n",
            " [8.00498021e-01 1.19723816e-01 7.31798790e-02 3.85007117e-02]\n",
            " [6.34261385e-01 7.96130454e-01 6.63798680e-02 8.38135667e-01]]\n",
            "\n",
            "Row with maximum sum (index 0):\n",
            " [0.75220771 0.11899105 0.8172718  0.76280021]\n",
            "\n",
            "Normalized array (row-wise min-max):\n",
            " [[0.90682245 0.         1.         0.92199185]\n",
            " [1.         0.14736346 0.         0.0020884 ]\n",
            " [0.         0.13128675 1.         0.25862969]\n",
            " [1.         0.10659238 0.04551088 0.        ]\n",
            " [0.73583058 0.94557189 0.         1.        ]]\n"
          ]
        }
      ]
    },
    {
      "cell_type": "code",
      "source": [
        "#5\n",
        "import numpy as np\n",
        "\n",
        "arr = np.array([1, 3, 5, 3, 7, 9, 1, 5, 5])\n",
        "\n",
        "unique_elements = np.unique(arr)\n",
        "print(\"Unique elements:\", unique_elements)\n",
        "\n",
        "elements, counts = np.unique(arr, return_counts=True)\n",
        "duplicates = elements[counts > 1]\n",
        "print(\"Duplicate elements:\", duplicates)\n"
      ],
      "metadata": {
        "colab": {
          "base_uri": "https://localhost:8080/"
        },
        "id": "aY7CAfUaDEsW",
        "outputId": "7b47854a-b0eb-4a16-c77f-66a94f1ee47f"
      },
      "execution_count": null,
      "outputs": [
        {
          "output_type": "stream",
          "name": "stdout",
          "text": [
            "Unique elements: [1 3 5 7 9]\n",
            "Duplicate elements: [1 3 5]\n"
          ]
        }
      ]
    },
    {
      "cell_type": "code",
      "source": [
        "#6\n",
        "import numpy as np\n",
        "\n",
        "arr = np.arange(1, 37).reshape(6, 6)\n",
        "print(\"Original 6x6 array:\\n\", arr)\n",
        "\n",
        "submatrix = arr[1:5, 1:5]\n",
        "print(\"\\nMiddle 4x4 submatrix:\\n\", submatrix)\n",
        "\n",
        "even_numbers = submatrix[submatrix % 2 == 0]\n",
        "print(\"\\nEven numbers in the submatrix:\\n\", even_numbers)\n"
      ],
      "metadata": {
        "colab": {
          "base_uri": "https://localhost:8080/"
        },
        "id": "dD0PirqcDEan",
        "outputId": "44156925-80c6-48d7-bb0f-600876834cff"
      },
      "execution_count": null,
      "outputs": [
        {
          "output_type": "stream",
          "name": "stdout",
          "text": [
            "Original 6x6 array:\n",
            " [[ 1  2  3  4  5  6]\n",
            " [ 7  8  9 10 11 12]\n",
            " [13 14 15 16 17 18]\n",
            " [19 20 21 22 23 24]\n",
            " [25 26 27 28 29 30]\n",
            " [31 32 33 34 35 36]]\n",
            "\n",
            "Middle 4x4 submatrix:\n",
            " [[ 8  9 10 11]\n",
            " [14 15 16 17]\n",
            " [20 21 22 23]\n",
            " [26 27 28 29]]\n",
            "\n",
            "Even numbers in the submatrix:\n",
            " [ 8 10 14 16 20 22 26 28]\n"
          ]
        }
      ]
    },
    {
      "cell_type": "code",
      "source": [
        "#7\n",
        "import numpy as np\n",
        "\n",
        "arr = np.arange(12).reshape(3, 4)\n",
        "print(\"Original (3,4) array:\\n\", arr)\n",
        "\n",
        "reshaped_2x6 = arr.reshape(2, 6)\n",
        "print(\"\\nReshaped to (2,6):\\n\", reshaped_2x6)\n",
        "\n",
        "flattened = reshaped_2x6.flatten()\n",
        "print(\"\\nFlattened 1D array:\\n\", flattened)\n",
        "\n",
        "reshaped_4x3 = flattened.reshape(4, 3)\n",
        "print(\"\\nReshaped back to (4,3):\\n\", reshaped_4x3)\n"
      ],
      "metadata": {
        "colab": {
          "base_uri": "https://localhost:8080/"
        },
        "id": "qnI1x0jCDENr",
        "outputId": "3c00710d-fd13-4127-a3af-9bf5db5aeec0"
      },
      "execution_count": null,
      "outputs": [
        {
          "output_type": "stream",
          "name": "stdout",
          "text": [
            "Original (3,4) array:\n",
            " [[ 0  1  2  3]\n",
            " [ 4  5  6  7]\n",
            " [ 8  9 10 11]]\n",
            "\n",
            "Reshaped to (2,6):\n",
            " [[ 0  1  2  3  4  5]\n",
            " [ 6  7  8  9 10 11]]\n",
            "\n",
            "Flattened 1D array:\n",
            " [ 0  1  2  3  4  5  6  7  8  9 10 11]\n",
            "\n",
            "Reshaped back to (4,3):\n",
            " [[ 0  1  2]\n",
            " [ 3  4  5]\n",
            " [ 6  7  8]\n",
            " [ 9 10 11]]\n"
          ]
        }
      ]
    },
    {
      "cell_type": "code",
      "source": [
        "#8\n",
        "import numpy as np\n",
        "\n",
        "a = np.array([[1, 2], [3, 4]])\n",
        "print(\"Original array:\\n\", a)\n",
        "\n",
        "new_row = np.array([[5, 6]])\n",
        "a = np.vstack([a, new_row])\n",
        "print(\"\\nAfter appending new row:\\n\", a)\n",
        "\n",
        "new_col = np.array([[7], [8], [9]])\n",
        "a = np.hstack([a, new_col])\n",
        "print(\"\\nAfter appending new column:\\n\", a)\n"
      ],
      "metadata": {
        "colab": {
          "base_uri": "https://localhost:8080/"
        },
        "id": "r1IluzlME-HB",
        "outputId": "b92c30bc-23c6-4fb1-902c-2e543d8ceba8"
      },
      "execution_count": null,
      "outputs": [
        {
          "output_type": "stream",
          "name": "stdout",
          "text": [
            "Original array:\n",
            " [[1 2]\n",
            " [3 4]]\n",
            "\n",
            "After appending new row:\n",
            " [[1 2]\n",
            " [3 4]\n",
            " [5 6]]\n",
            "\n",
            "After appending new column:\n",
            " [[1 2 7]\n",
            " [3 4 8]\n",
            " [5 6 9]]\n"
          ]
        }
      ]
    },
    {
      "cell_type": "code",
      "source": [
        "#9\n",
        "import numpy as np\n",
        "\n",
        "a = np.array([1, 2, 3])\n",
        "b = np.array([4, 5, 6])\n",
        "c = np.array([7, 8, 9])\n",
        "\n",
        "joined = np.concatenate((a, b, c))\n",
        "print(\"Joined array:\\n\", joined)\n",
        "\n",
        "matrix = joined.reshape(3, 3)\n",
        "print(\"\\nReshaped 3x3 matrix:\\n\", matrix)\n",
        "\n",
        "diagonal = np.diag(matrix)\n",
        "print(\"\\nDiagonal elements:\\n\", diagonal)\n"
      ],
      "metadata": {
        "colab": {
          "base_uri": "https://localhost:8080/"
        },
        "id": "rUvJWst6FMuZ",
        "outputId": "0b46ef24-3b2a-499e-889a-06f7bf3d6497"
      },
      "execution_count": null,
      "outputs": [
        {
          "output_type": "stream",
          "name": "stdout",
          "text": [
            "Joined array:\n",
            " [1 2 3 4 5 6 7 8 9]\n",
            "\n",
            "Reshaped 3x3 matrix:\n",
            " [[1 2 3]\n",
            " [4 5 6]\n",
            " [7 8 9]]\n",
            "\n",
            "Diagonal elements:\n",
            " [1 5 9]\n"
          ]
        }
      ]
    },
    {
      "cell_type": "code",
      "source": [
        "#10\n",
        "import numpy as np\n",
        "\n",
        "arr = np.arange(1, 21)\n",
        "print(\"Original array:\\n\", arr)\n",
        "\n",
        "div_by_3_or_5 = arr[(arr % 3 == 0) | (arr % 5 == 0)]\n",
        "print(\"\\nValues divisible by 3 or 5:\\n\", div_by_3_or_5)\n",
        "\n",
        "count = div_by_3_or_5.size\n",
        "print(\"\\nCount of values divisible by 3 or 5:\", count)\n"
      ],
      "metadata": {
        "colab": {
          "base_uri": "https://localhost:8080/"
        },
        "id": "J5M0afR0Fb9q",
        "outputId": "29a4fb87-1b95-4840-f4e7-d59d36ee3f51"
      },
      "execution_count": null,
      "outputs": [
        {
          "output_type": "stream",
          "name": "stdout",
          "text": [
            "Original array:\n",
            " [ 1  2  3  4  5  6  7  8  9 10 11 12 13 14 15 16 17 18 19 20]\n",
            "\n",
            "Values divisible by 3 or 5:\n",
            " [ 3  5  6  9 10 12 15 18 20]\n",
            "\n",
            "Count of values divisible by 3 or 5: 9\n"
          ]
        }
      ]
    },
    {
      "cell_type": "markdown",
      "source": [
        "#Pandas Assessment\n"
      ],
      "metadata": {
        "id": "RbcG9iteGlSn"
      }
    },
    {
      "cell_type": "code",
      "source": [
        "#1\n",
        "def range(a):\n",
        "  maximum=max(a)\n",
        "  minimum=min(a)\n",
        "  return maximum,minimum\n",
        "\n",
        "a=[2,4,5,13,4,9]\n",
        "maximum,minimum = range(a)\n",
        "print(\"Range = \",maximum,minimum)"
      ],
      "metadata": {
        "colab": {
          "base_uri": "https://localhost:8080/"
        },
        "id": "keznbVLSGuBs",
        "outputId": "7e16fd4a-f59a-45a1-b67f-b50f084d17ff"
      },
      "execution_count": null,
      "outputs": [
        {
          "output_type": "stream",
          "name": "stdout",
          "text": [
            "Range =  13 2\n"
          ]
        }
      ]
    },
    {
      "cell_type": "code",
      "source": [
        "#2\n",
        "def mean_value(numbers):\n",
        "  if not numbers:\n",
        "    return None\n",
        "  total = sum(numbers)\n",
        "  mean = total / len(numbers)\n",
        "  return mean\n",
        "numbers=[2,43,67,8]\n",
        "mean = mean_value(numbers)\n",
        "print(\"Mean value = \",mean)"
      ],
      "metadata": {
        "colab": {
          "base_uri": "https://localhost:8080/"
        },
        "id": "m2X69TFyGtzH",
        "outputId": "2f2eee5c-39fb-4c09-bfce-59d6a93417e2"
      },
      "execution_count": null,
      "outputs": [
        {
          "output_type": "stream",
          "name": "stdout",
          "text": [
            "Mean value =  30.0\n"
          ]
        }
      ]
    },
    {
      "cell_type": "code",
      "source": [
        "#3\n",
        "def median_value(num):\n",
        "  if not numbers:\n",
        "    return None\n",
        "  x = sorted(num)\n",
        "  l = len(num)\n",
        "  if l%2==0:\n",
        "   median=(num[l//2]+num[l//2])/2\n",
        "  else:\n",
        "   median=num[l//2]\n",
        "  return median\n",
        "num=[2,3,5,6,7,9]\n",
        "median=median_value(num)\n",
        "print(\"Median:\",median)"
      ],
      "metadata": {
        "colab": {
          "base_uri": "https://localhost:8080/"
        },
        "id": "bRE1l-EEIG4e",
        "outputId": "9e38757b-e3bf-477b-b147-8da5fa0c48c5"
      },
      "execution_count": null,
      "outputs": [
        {
          "output_type": "stream",
          "name": "stdout",
          "text": [
            "Median: 6.0\n"
          ]
        }
      ]
    },
    {
      "cell_type": "code",
      "source": [
        "#5\n",
        "def percentile_value(p):\n",
        "    x = sorted(p)\n",
        "    n = len(x)\n",
        "    perc = 90 / 100 * (n - 1)\n",
        "    y = int(perc)\n",
        "    fraction = perc - y\n",
        "\n",
        "    if y + 1 < n:\n",
        "        m = x[y] + fraction * (x[y + 1] - x[y])\n",
        "\n",
        "\n",
        "    return perc, y, m\n",
        "\n",
        "x = [10, 20, 30, 40, 50]\n",
        "perc, y, m = percentile_value(x)\n",
        "print(\"Percentile position (float):\", perc)\n",
        "print(\"Lower index used:\", y)\n",
        "print(\"Interpolated 90th Percentile value:\", m)\n"
      ],
      "metadata": {
        "colab": {
          "base_uri": "https://localhost:8080/"
        },
        "id": "y0K_Jqx4IGxA",
        "outputId": "971c30ae-0c4c-4fd3-cc10-0266ba2d07f2"
      },
      "execution_count": null,
      "outputs": [
        {
          "output_type": "stream",
          "name": "stdout",
          "text": [
            "Percentile position (float): 3.6\n",
            "Lower index used: 3\n",
            "Interpolated 90th Percentile value: 46.0\n"
          ]
        }
      ]
    },
    {
      "cell_type": "code",
      "source": [
        "#6\n",
        "def lower_bound(a):\n",
        "  a.sort()\n",
        "  n=len(a)\n",
        "  Q1 =int (25/100)*(n-1)\n",
        "  Q3 = int (75/100)*(n-1)\n",
        "  IQR = a[Q3]-a[Q1]\n",
        "  LB = a[Q1]-1.5*IQR\n",
        "  return LB\n",
        "a=[10,20,30,40,50]\n",
        "LB = lower_bound(a)\n",
        "print(\"LB:\",LB)"
      ],
      "metadata": {
        "colab": {
          "base_uri": "https://localhost:8080/"
        },
        "id": "ebcqDCoMIXfk",
        "outputId": "f29a18d2-508b-42da-97cd-af9f11b8fb36"
      },
      "execution_count": null,
      "outputs": [
        {
          "output_type": "stream",
          "name": "stdout",
          "text": [
            "LB: 10.0\n"
          ]
        }
      ]
    },
    {
      "cell_type": "code",
      "source": [
        "#7\n",
        "def outliers(a):\n",
        "    a = sorted(a)\n",
        "    n = len(a)\n",
        "\n",
        "    Q1_index = int(0.25 * (n - 1))\n",
        "    Q3_index = int(0.75 * (n - 1))\n",
        "\n",
        "    Q1 = a[Q1_index]\n",
        "    Q3 = a[Q3_index]\n",
        "    IQR = Q3 - Q1\n",
        "    LB = Q1 - 1.5 * IQR\n",
        "    UB = Q3 + 1.5 * IQR\n",
        "    return [x for x in a if x < LB or x > UB]\n",
        "a = [10, 20, 30, 40, 50, 100]\n",
        "print(\"Outliers:\", outliers(a))\n"
      ],
      "metadata": {
        "colab": {
          "base_uri": "https://localhost:8080/"
        },
        "id": "q3qFQJtCIXTV",
        "outputId": "62806cea-b40e-4762-d1d1-9ce9f50b0157"
      },
      "execution_count": null,
      "outputs": [
        {
          "output_type": "stream",
          "name": "stdout",
          "text": [
            "Outliers: [100]\n"
          ]
        }
      ]
    },
    {
      "cell_type": "code",
      "source": [
        "#8\n",
        "def standard_deviation(a):\n",
        "  a.sort\n",
        "  b=len(a)\n",
        "  mean=(sum(a)/b)\n",
        "  c=sum((x-mean)**2 for x in a)/(b-1)\n",
        "# d=c/z-1\n",
        "# print(\"Variance:\",c)\n",
        "  sd = c**0.5\n",
        "  return sd\n",
        "a=[10,20,30,40,50]\n",
        "sd=standard_deviation(a)\n",
        "print(\"Standard Deviation:\",sd)"
      ],
      "metadata": {
        "colab": {
          "base_uri": "https://localhost:8080/"
        },
        "id": "_qBUysaqInaz",
        "outputId": "1d9494f6-433b-4745-ac6f-b88e2465da5a"
      },
      "execution_count": null,
      "outputs": [
        {
          "output_type": "stream",
          "name": "stdout",
          "text": [
            "Standard Deviation: 15.811388300841896\n"
          ]
        }
      ]
    },
    {
      "cell_type": "code",
      "source": [
        "#9\n",
        "def z_score(a):\n",
        "  mean=sum(a)/len(a)\n",
        "  sd=standard_deviation(a)\n",
        "  z=[(x-mean)/sd for x in a]\n",
        "  return z\n",
        "a=[10,20,30,40,50]\n",
        "z=z_score(a)\n",
        "print(\"Z-score:\",z)\n"
      ],
      "metadata": {
        "colab": {
          "base_uri": "https://localhost:8080/"
        },
        "id": "FVplDZ2NIp7d",
        "outputId": "38757310-d246-4fe6-d49c-bd4ab29c0492"
      },
      "execution_count": null,
      "outputs": [
        {
          "output_type": "stream",
          "name": "stdout",
          "text": [
            "Z-score: [-1.2649110640673518, -0.6324555320336759, 0.0, 0.6324555320336759, 1.2649110640673518]\n"
          ]
        }
      ]
    }
  ]
}