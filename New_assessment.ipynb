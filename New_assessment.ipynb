{
  "nbformat": 4,
  "nbformat_minor": 0,
  "metadata": {
    "colab": {
      "provenance": [],
      "authorship_tag": "ABX9TyMhvr27U9SYBNCI/vGOQWal",
      "include_colab_link": true
    },
    "kernelspec": {
      "name": "python3",
      "display_name": "Python 3"
    },
    "language_info": {
      "name": "python"
    }
  },
  "cells": [
    {
      "cell_type": "markdown",
      "metadata": {
        "id": "view-in-github",
        "colab_type": "text"
      },
      "source": [
        "<a href=\"https://colab.research.google.com/github/Adithya759/Adithya/blob/main/New_assessment.ipynb\" target=\"_parent\"><img src=\"https://colab.research.google.com/assets/colab-badge.svg\" alt=\"Open In Colab\"/></a>"
      ]
    },
    {
      "cell_type": "code",
      "execution_count": 12,
      "metadata": {
        "colab": {
          "base_uri": "https://localhost:8080/"
        },
        "id": "cugD3DE5AsWr",
        "outputId": "181af8e0-7184-430c-96b3-f3742653612d"
      },
      "outputs": [
        {
          "output_type": "stream",
          "name": "stdout",
          "text": [
            "3\n"
          ]
        }
      ],
      "source": [
        "#1\n",
        "def count_vowels(text):\n",
        "  count=0\n",
        "  for letter in text:\n",
        "    if letter in 'aeiou':\n",
        "       count=count+1\n",
        "  return count\n",
        "print(count_vowels(\"Hello World\"))"
      ]
    },
    {
      "cell_type": "code",
      "source": [
        "#2\n",
        "def is_prime(number):\n",
        "  if number <= 1:\n",
        "    return False\n",
        "  for i in range(2, number):\n",
        "    if number % i == 0:\n",
        "       return False\n",
        "  return True\n",
        "print(is_prime(7))\n",
        "print(is_prime(10))"
      ],
      "metadata": {
        "colab": {
          "base_uri": "https://localhost:8080/"
        },
        "id": "s3nw2hvCE53_",
        "outputId": "c1373b81-8ed2-4ca9-ad21-23799bda72ca"
      },
      "execution_count": 5,
      "outputs": [
        {
          "output_type": "stream",
          "name": "stdout",
          "text": [
            "True\n",
            "False\n"
          ]
        }
      ]
    },
    {
      "cell_type": "code",
      "source": [
        "#3\n",
        "def find_max(a, b):\n",
        "  if a >b:\n",
        "    return a\n",
        "  else:\n",
        "    return b\n",
        "print(find_max(10, 20))\n",
        "print(find_max(20, 30))"
      ],
      "metadata": {
        "colab": {
          "base_uri": "https://localhost:8080/"
        },
        "id": "H6MgmVQNFwVF",
        "outputId": "e25d2299-49e4-46ec-f53b-f2a294cf778c"
      },
      "execution_count": 6,
      "outputs": [
        {
          "output_type": "stream",
          "name": "stdout",
          "text": [
            "20\n",
            "30\n"
          ]
        }
      ]
    },
    {
      "cell_type": "code",
      "source": [
        "#4\n",
        "def factorial(n):\n",
        "  result= 1\n",
        "  for i in range(1, n +1):\n",
        "    result= result*i\n",
        "  return result\n",
        "print(factorial(5))\n",
        "print(factorial(3))"
      ],
      "metadata": {
        "colab": {
          "base_uri": "https://localhost:8080/"
        },
        "id": "q7ZYTsyUIEFc",
        "outputId": "1253a56a-d291-45e7-a199-17ae3fea8fa1"
      },
      "execution_count": 7,
      "outputs": [
        {
          "output_type": "stream",
          "name": "stdout",
          "text": [
            "120\n",
            "6\n"
          ]
        }
      ]
    },
    {
      "cell_type": "code",
      "source": [
        "#5\n",
        "def reverse_string(text):\n",
        "  result = \"\"\n",
        "  for char in text:\n",
        "      result + char + result\n",
        "  return result\n",
        "print(reverse_string(\"hello\"))\n"
      ],
      "metadata": {
        "colab": {
          "base_uri": "https://localhost:8080/"
        },
        "id": "PYxYkz8IID_3",
        "outputId": "d9adbea2-050a-4596-a618-0e933ebfbe9f"
      },
      "execution_count": 9,
      "outputs": [
        {
          "output_type": "stream",
          "name": "stdout",
          "text": [
            "\n"
          ]
        }
      ]
    },
    {
      "cell_type": "code",
      "source": [
        "#6\n",
        "def is_palindrome(text):\n",
        "  if text == text[ ::-1]:\n",
        "    return True\n",
        "  else:\n",
        "    return False\n",
        "print(is_palindrome(\"hello\"))\n",
        "print(is_palindrome(\"madam\"))"
      ],
      "metadata": {
        "colab": {
          "base_uri": "https://localhost:8080/"
        },
        "id": "3qqd6kK1ID6F",
        "outputId": "a49ca78c-56e5-4a87-df61-f34bf3ac4a2b"
      },
      "execution_count": 14,
      "outputs": [
        {
          "output_type": "stream",
          "name": "stdout",
          "text": [
            "False\n",
            "True\n"
          ]
        }
      ]
    },
    {
      "cell_type": "code",
      "source": [
        "#7\n",
        "def count_vowels(text):\n",
        "  vowels= 'aeiou'\n",
        "  count = 0\n",
        "  for letter in text:\n",
        "    if letter in vowels:\n",
        "      count + count+1\n",
        "  return count\n",
        "print(count_vowels(\"hello life\"))"
      ],
      "metadata": {
        "colab": {
          "base_uri": "https://localhost:8080/"
        },
        "id": "BnB-MFOXID2o",
        "outputId": "f8b7839a-9430-4f4b-f4e0-4ac86b23e9fc"
      },
      "execution_count": 21,
      "outputs": [
        {
          "output_type": "stream",
          "name": "stdout",
          "text": [
            "0\n"
          ]
        }
      ]
    },
    {
      "cell_type": "code",
      "source": [
        "#8\n",
        "def my_function_8():\n",
        "  num = [1,2,3,4,5,6,7,8,9]\n",
        "  return sum(num)\n",
        "print(\"number of vowels:\", my_function_8())"
      ],
      "metadata": {
        "colab": {
          "base_uri": "https://localhost:8080/"
        },
        "id": "pYjXvHOQMfqd",
        "outputId": "8682808f-9d24-4fac-d2b6-79d1f9d35ba8"
      },
      "execution_count": 31,
      "outputs": [
        {
          "output_type": "stream",
          "name": "stdout",
          "text": [
            "number of vowels: 45\n"
          ]
        }
      ]
    },
    {
      "cell_type": "code",
      "source": [
        "#9\n",
        "def find_min(numbers):\n",
        "    if not numbers:\n",
        "      return None\n",
        "    smallest = numbers[0]\n",
        "    for num in numbers:\n",
        "      if num < smallest:\n",
        "        smallest = num\n",
        "    return smallest\n",
        "print(find_min([4,2,7,1,9]))"
      ],
      "metadata": {
        "colab": {
          "base_uri": "https://localhost:8080/"
        },
        "id": "12cf-f2ZM8dt",
        "outputId": "2cc42fb0-3263-4ac1-f7ea-d19075737981"
      },
      "execution_count": 27,
      "outputs": [
        {
          "output_type": "stream",
          "name": "stdout",
          "text": [
            "1\n"
          ]
        }
      ]
    },
    {
      "cell_type": "code",
      "source": [
        "#10\n",
        "def remove_duplicates(numbers):\n",
        "  result= []\n",
        "  for num in numbers:\n",
        "    if num not in result:\n",
        "        result.append(num)\n",
        "  return result\n",
        "print(remove_duplicates([1,2,3,4,4,5,5,6]))"
      ],
      "metadata": {
        "colab": {
          "base_uri": "https://localhost:8080/"
        },
        "id": "RZ8LlwVLNkKy",
        "outputId": "587e3267-20ca-44e3-ce49-7f7861283f04"
      },
      "execution_count": 28,
      "outputs": [
        {
          "output_type": "stream",
          "name": "stdout",
          "text": [
            "[1, 2, 3, 4, 5, 6]\n"
          ]
        }
      ]
    },
    {
      "cell_type": "code",
      "source": [
        "#11\n",
        "def my_function_11():\n",
        "  list= [10,5,20,15,30]\n",
        "  return sorted(list)\n",
        "print(my_function_11())"
      ],
      "metadata": {
        "colab": {
          "base_uri": "https://localhost:8080/"
        },
        "id": "j6bh6Gbseqpr",
        "outputId": "4b73ca6f-020a-4c3f-915e-fa1a7a24180b"
      },
      "execution_count": 32,
      "outputs": [
        {
          "output_type": "stream",
          "name": "stdout",
          "text": [
            "[5, 10, 15, 20, 30]\n"
          ]
        }
      ]
    },
    {
      "cell_type": "code",
      "source": [
        "#12\n",
        "def my_fuction_12():\n",
        "  text=(\"apple\")\n",
        "  return len(text)\n",
        "print(my_fuction_12())"
      ],
      "metadata": {
        "colab": {
          "base_uri": "https://localhost:8080/"
        },
        "id": "DynF9dBNeqbA",
        "outputId": "be351d12-99fe-4d4a-af9c-ce45e6ad4287"
      },
      "execution_count": 34,
      "outputs": [
        {
          "output_type": "stream",
          "name": "stdout",
          "text": [
            "5\n"
          ]
        }
      ]
    },
    {
      "cell_type": "code",
      "source": [
        "#13\n",
        "def my_function_13():\n",
        "  text=\"She is a Doctor\"\n",
        "  text=text.split()\n",
        "  return len(text)\n",
        "print(my_function_13())"
      ],
      "metadata": {
        "colab": {
          "base_uri": "https://localhost:8080/"
        },
        "id": "K04WHGCveqP2",
        "outputId": "46c655ee-f0b9-45c2-aeb7-a07bb649a082"
      },
      "execution_count": 35,
      "outputs": [
        {
          "output_type": "stream",
          "name": "stdout",
          "text": [
            "4\n"
          ]
        }
      ]
    },
    {
      "cell_type": "code",
      "source": [
        "#14\n",
        "def my_function_14():\n",
        "  farenheit = (celsius * 9/5)+32\n",
        "  return farenheit\n",
        "celsius=25\n",
        "fareheit = my_function_14()\n",
        "print(\"Celcius :\", celsius)\n",
        "print(\"farenheit:\", fareheit)\n"
      ],
      "metadata": {
        "colab": {
          "base_uri": "https://localhost:8080/"
        },
        "id": "juJD1A6wep_R",
        "outputId": "2ebab1d2-d795-4a67-c4f8-c801be4f1caa"
      },
      "execution_count": 37,
      "outputs": [
        {
          "output_type": "stream",
          "name": "stdout",
          "text": [
            "Celcius : 25\n",
            "farenheit: 77.0\n"
          ]
        }
      ]
    },
    {
      "cell_type": "code",
      "source": [
        "#15\n",
        "def is_palindrome(number):\n",
        "  original = str(number)\n",
        "  reversed_num = original[ ::-1]# reversed_num should be a string to comare with original\n",
        "  return original == reversed_num\n",
        "number = 121\n",
        "print(is_palindrome(121))"
      ],
      "metadata": {
        "colab": {
          "base_uri": "https://localhost:8080/"
        },
        "id": "WKcrdNQjhiYT",
        "outputId": "ee6a07ad-cc9b-4f4e-f585-b34faaca258b"
      },
      "execution_count": 38,
      "outputs": [
        {
          "output_type": "stream",
          "name": "stdout",
          "text": [
            "True\n"
          ]
        }
      ]
    },
    {
      "cell_type": "code",
      "source": [
        "#16\n",
        "def my_function_16():\n",
        "  num_list= [5,10,15,20,25,30,35,40,45,50]\n",
        "  even_numbers = [number for number in num_list if number % 2 == 0]\n",
        "  return even_numbers\n",
        "print(my_function_16(  ))\n"
      ],
      "metadata": {
        "colab": {
          "base_uri": "https://localhost:8080/"
        },
        "id": "vjZsuHiMi01x",
        "outputId": "786eba76-6be3-4809-9409-1e0e01030b84"
      },
      "execution_count": 40,
      "outputs": [
        {
          "output_type": "stream",
          "name": "stdout",
          "text": [
            "[10, 20, 30, 40, 50]\n"
          ]
        }
      ]
    },
    {
      "cell_type": "code",
      "source": [
        "#17\n",
        "def my_function_17(n):\n",
        "  if n <= 0:\n",
        "    return \"inavlid input\"\n",
        "  elif n == 1:\n",
        "    return 0\n",
        "  elif n == 2:\n",
        "    return 1\n",
        "  else:\n",
        "      a,b = 0,1\n",
        "      for i in range(3, n+1):\n",
        "        a,b = b, a+b\n",
        "      return b\n",
        "print(my_function_17(7))"
      ],
      "metadata": {
        "colab": {
          "base_uri": "https://localhost:8080/"
        },
        "id": "_eIfMw__myPi",
        "outputId": "bd9ee233-c198-47ca-c28b-3dbfcb21c5ab"
      },
      "execution_count": 42,
      "outputs": [
        {
          "output_type": "stream",
          "name": "stdout",
          "text": [
            "8\n"
          ]
        }
      ]
    },
    {
      "cell_type": "code",
      "source": [
        "#18\n",
        "def my_function_18():\n",
        "  numbers= [1,2,3,4,5,6,7,8,9,10]\n",
        "  total= sum(numbers)\n",
        "  count= len(numbers)\n",
        "  return total/count\n",
        "print(my_function_18())"
      ],
      "metadata": {
        "colab": {
          "base_uri": "https://localhost:8080/"
        },
        "id": "XxZC-ieFmyLw",
        "outputId": "5894452f-616a-4abf-e0b9-00425a0d16be"
      },
      "execution_count": 44,
      "outputs": [
        {
          "output_type": "stream",
          "name": "stdout",
          "text": [
            "5.5\n"
          ]
        }
      ]
    },
    {
      "cell_type": "code",
      "source": [
        "#19\n",
        "def my_function_19():\n",
        "  count_dict={}\n",
        "  for char in \"hello world\":\n",
        "    if char in count_dict:\n",
        "      count_dict[char]+=1\n",
        "    else:\n",
        "      count_dict[char] =1\n",
        "    return count_dict\n",
        "print(my_function_19())"
      ],
      "metadata": {
        "colab": {
          "base_uri": "https://localhost:8080/"
        },
        "id": "amF3eh4QmyIQ",
        "outputId": "0a3affa8-ef3c-4f43-cce0-6c6be2dd7f2b"
      },
      "execution_count": 45,
      "outputs": [
        {
          "output_type": "stream",
          "name": "stdout",
          "text": [
            "{'h': 1}\n"
          ]
        }
      ]
    },
    {
      "cell_type": "code",
      "source": [
        "#20\n",
        "def my_function_20():\n",
        "  return len(list) == len(set(list))\n",
        "list = [1,2,3,4,5]\n",
        "print(my_function_20())"
      ],
      "metadata": {
        "colab": {
          "base_uri": "https://localhost:8080/"
        },
        "id": "gX_vd58-myFM",
        "outputId": "bd0dc73b-75e3-4936-a1da-f248f5fa7abf"
      },
      "execution_count": 46,
      "outputs": [
        {
          "output_type": "stream",
          "name": "stdout",
          "text": [
            "True\n"
          ]
        }
      ]
    },
    {
      "cell_type": "code",
      "source": [
        "#21\n",
        "def dot_product(list1, list2):\n",
        "  result = 0\n",
        "  for a, b in zip(list1, list2):\n",
        "    result += a * b\n",
        "  return result\n",
        "x= [1,2,3]\n",
        "y= [4,5,6]\n",
        "print(dot_product(x,y))"
      ],
      "metadata": {
        "colab": {
          "base_uri": "https://localhost:8080/"
        },
        "id": "1TtWOX-YmyCa",
        "outputId": "57b0a899-0cc5-4d90-f248-9e86c5e62a23"
      },
      "execution_count": 47,
      "outputs": [
        {
          "output_type": "stream",
          "name": "stdout",
          "text": [
            "32\n"
          ]
        }
      ]
    },
    {
      "cell_type": "code",
      "source": [
        "def common_elements(list1, list2):\n",
        "  result=[]\n",
        "  for item in list1:\n",
        "    if item in list2 and item not in result:\n",
        "        result.append(item)\n",
        "    return result\n",
        "a=[1,2,3,4]\n",
        "b=[3,4,5,6]\n",
        "print(common_elements (a, b))"
      ],
      "metadata": {
        "id": "spKzN-ITmx_2"
      },
      "execution_count": null,
      "outputs": []
    },
    {
      "cell_type": "code",
      "source": [],
      "metadata": {
        "id": "-WuMot1Imx9X"
      },
      "execution_count": null,
      "outputs": []
    },
    {
      "cell_type": "code",
      "source": [],
      "metadata": {
        "id": "fzVhUD1zmx6a"
      },
      "execution_count": null,
      "outputs": []
    },
    {
      "cell_type": "code",
      "source": [],
      "metadata": {
        "id": "F0nwEUwKmx3y"
      },
      "execution_count": null,
      "outputs": []
    }
  ]
}